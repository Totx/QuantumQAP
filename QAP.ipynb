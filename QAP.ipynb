{
 "cells": [
  {
   "cell_type": "markdown",
   "metadata": {},
   "source": [
    "# Solving Quadratic Assignment Problem as a QUBO model with quantum annealing\n",
    "\n",
    "The notebook contains the steps to read a QAP instance, transform it into a QUBO model and send it to a D-wave the quantum computer to solve it with quantum annealing technique."
   ]
  },
  {
   "cell_type": "markdown",
   "metadata": {},
   "source": [
    "## QAP instances\n",
    "\n",
    "QAPLIB is a large library of QAP instances based of real-world problems, information on the research of the QAP and contributions towards spreading the scientific knowledge about the QAP to the world. It can be accessed <a href=\"http://anjos.mgi.polymtl.ca/qaplib/\">here</a>.\n",
    "\n",
    "The first step is to read the data from an instance of the QAP problem. In this case the data corresponds to the amount of locations and facilities, the flow chart between facilities and the distance between locations. The data is a file with the following format:\n",
    "\n",
    "n\n",
    "\n",
    "A\n",
    "\n",
    "B\n",
    "\n",
    "The 'n' corresponds to the amount of facilities/locations, while A and B are either the flow chart between facilities or the distance between locations. Due to the problems' characteristics, the order in which each one of the matrices is given is inconsequential."
   ]
  },
  {
   "cell_type": "code",
   "execution_count": 1,
   "metadata": {},
   "outputs": [
    {
     "name": "stdout",
     "output_type": "stream",
     "text": [
      "The number of locations/facilities of the instance is 12\n",
      "\n",
      "The matrix A of the instance:\n",
      "[[ 0 90 10 23 43  0  0  0  0  0  0  0]\n",
      " [90  0  0  0  0 88  0  0  0  0  0  0]\n",
      " [10  0  0  0  0  0 26 16  0  0  0  0]\n",
      " [23  0  0  0  0  0  0  0  0  0  0  0]\n",
      " [43  0  0  0  0  0  0  0  0  0  0  0]\n",
      " [ 0 88  0  0  0  0  0  0  1  0  0  0]\n",
      " [ 0  0 26  0  0  0  0  0  0  0  0  0]\n",
      " [ 0  0 16  0  0  0  0  0  0 96  0  0]\n",
      " [ 0  0  0  0  0  1  0  0  0  0 29  0]\n",
      " [ 0  0  0  0  0  0  0 96  0  0  0 37]\n",
      " [ 0  0  0  0  0  0  0  0 29  0  0  0]\n",
      " [ 0  0  0  0  0  0  0  0  0 37  0  0]]\n",
      "\n",
      "The matrix B of the instance:\n",
      "[[ 0 36 54 26 59 72  9 34 79 17 46 95]\n",
      " [36  0 73 35 90 58 30 78 35 44 79 36]\n",
      " [54 73  0 21 10 97 58 66 69 61 54 63]\n",
      " [26 35 21  0 93 12 46 40 37 48 68 85]\n",
      " [59 90 10 93  0 64  5 29 76 16  5 76]\n",
      " [72 58 97 12 64  0 96 55 38 54  0 34]\n",
      " [ 9 30 58 46  5 96  0 83 35 11 56 37]\n",
      " [34 78 66 40 29 55 83  0 44 12 15 80]\n",
      " [79 35 69 37 76 38 35 44  0 64 39 33]\n",
      " [17 44 61 48 16 54 11 12 64  0 70 86]\n",
      " [46 79 54 68  5  0 56 15 39 70  0 18]\n",
      " [95 36 63 85 76 34 37 80 33 86 18  0]]\n",
      "\n"
     ]
    }
   ],
   "source": [
    "import numpy as np\n",
    "import os.path\n",
    "\n",
    "def read_QAP_instance(raw_data):\n",
    "    \n",
    "    # Check if the file exists\n",
    "    if not os.path.isfile(raw_data):\n",
    "        print(\"File not found\\n\")\n",
    "        return None\n",
    "    \n",
    "    # Every bit of information is taken from the file\n",
    "    with open(raw_data) as f:\n",
    "        int_array = list(map(int,f.read().strip().split()))\n",
    "        #print(int_array)\n",
    "    \n",
    "    # The number of locations/facilities\n",
    "    n = int_array[0]\n",
    "    # The first matrix A obtained from the file\n",
    "    A = int_array[1:(1+n**2)]\n",
    "    A = np.reshape(A, (n,n))\n",
    "    # The second matrix B obtained from the file\n",
    "    B = int_array[(1+n**2):]\n",
    "    B = np.reshape(B, (n,n))\n",
    "    \n",
    "    # The information extracted from the file is printed in an organized manner\n",
    "    print(\"The number of locations/facilities of the instance is {}\".format(n))\n",
    "    print()\n",
    "    print(\"The matrix A of the instance:\")\n",
    "    print(A)\n",
    "    print()\n",
    "    print(\"The matrix B of the instance:\")\n",
    "    print(B)\n",
    "    print()\n",
    "    \n",
    "    return (n, A, B)\n",
    "    \n",
    "\n",
    "# (n, A, B) = read_QAP_instance('./instances/QAP_instance_0.dat')\n",
    "(n, A, B) = read_QAP_instance('./instances/chr12a.dat')\n",
    "        "
   ]
  },
  {
   "cell_type": "markdown",
   "metadata": {},
   "source": [
    "## Build the QUBO model\n",
    "\n",
    "The QAP is now transformed into a QUBO model equivalent. In particular, the objective function of the QAP is condensed into a Q matrix. The Q matrix is a $n^2 \\times n²$ matrix, where each position corresponds to the quadratic coefficient of any assignment of a facility to a location to any other of that sort. Moreover, the Q matrix also considers the constraints of the problem. This is the QAP model:\n",
    "\n",
    "$$ \\min \\sum_{i=1}^{n}\\sum_{j=1}^{n}\\sum_{k=1}^{n}\\sum_{l=1}^{n} f_{ij}d_{kl}x_{ik}x_{jl} \\\\\n",
    "    \\sum_{i=1}^{n} x_{ij} = 1 \\ \\ j \\in S_n \\\\\n",
    "    \\sum_{j=1}^{n} x_{ij} = 1 \\ \\ i \\in S_n \\\\\n",
    "    x_{ij}\\in \\{0,1\\} \\ \\ i,j \\in S_n$$\n",
    "    \n",
    "The main purpose of this step is to transform that QAP model into this QUBO equivalent model:\n",
    "\n",
    "$$ \\min y=x^tQx $$\n",
    "\n",
    "For that purpose, not only the objective function must be transformed but also the constraints. The objective function can be straightforwardly placed into the Q matrix by adding the coefficients of compatible decision variables in their respective position. Constraints, however, are included with penalty terms, so that the incompatible decision variables are penalized. For the later, a discrete parameter P (the Lagrange parameter) that is adjusted to capture the strength of each constraint is defined.\n",
    "\n",
    "In this case, every constraint is necessary to be met since the same facility can't be placed in two different locations and a location can't hold two different facilities. Therefore, the parameter P will be adjusted as the largest coefficient of the objective function, so that considering that possibility is equivalent to having being placed in the worst possible place for the specific amount of flow between the facilities.\n",
    "\n"
   ]
  },
  {
   "cell_type": "code",
   "execution_count": 6,
   "metadata": {},
   "outputs": [
    {
     "name": "stdout",
     "output_type": "stream",
     "text": [
      "1810\n"
     ]
    }
   ],
   "source": [
    "import dimod\n",
    "\n",
    "def generate_qubo_model(n, A, B, P=None):\n",
    "    \n",
    "    # The Q matrix is initialized\n",
    "    Q = np.zeros(shape=(n*n,n*n))\n",
    "    \n",
    "    if P is None:\n",
    "        P = max(map(max, A)) * max(map(max, B))/2\n",
    "    offset = 2*n*P\n",
    "    \n",
    "    # The Q matrix is filled\n",
    "    for i in range(n):\n",
    "        for j in range(n):\n",
    "            for k in range(n):\n",
    "                for l in range(n):\n",
    "                    # These correspond to the diagonal of the matrix\n",
    "                    if i==j and k==l:\n",
    "                        Q[i*n+k, j*n+l] = -2*P\n",
    "                    # These correspond to the decision variables that can't occur at the same time, which is\n",
    "                    # when a facility is in two locations or two facilities are in the same location\n",
    "                    elif i==j or k==l:\n",
    "                        Q[i*n+k, j*n+l] = P\n",
    "                    # Valid pairs of decision variables come directly from the original objective function\n",
    "                    else:\n",
    "                        Q[i*n+k, j*n+l] = (A[i][j] * B[k][l]) / 2\n",
    "    \n",
    "    bqm = dimod.BinaryQuadraticModel.from_numpy_matrix(Q, offset=offset)\n",
    "    (Q, offset) = bqm.to_qubo()\n",
    "    return (Q, offset)\n",
    "    \n",
    "n = 10\n",
    "\n",
    "(Q, offset) = generate_qubo_model(n, A, B, P=50)\n",
    "print(len(Q))"
   ]
  },
  {
   "cell_type": "markdown",
   "metadata": {},
   "source": [
    "## Connecting to the QPU\n",
    "\n",
    "With the coefficients of the model being gathered in the Q matrix, the next step involves quantum annealing in the quantum computers available from D-wave systems. "
   ]
  },
  {
   "cell_type": "code",
   "execution_count": 7,
   "metadata": {},
   "outputs": [
    {
     "ename": "ValueError",
     "evalue": "no embedding found",
     "output_type": "error",
     "traceback": [
      "\u001b[0;31m---------------------------------------------------------------------------\u001b[0m",
      "\u001b[0;31mValueError\u001b[0m                                Traceback (most recent call last)",
      "\u001b[0;32m<ipython-input-7-7311f5488d70>\u001b[0m in \u001b[0;36m<module>\u001b[0;34m\u001b[0m\n\u001b[1;32m      5\u001b[0m \u001b[0mchainstrength\u001b[0m \u001b[0;34m=\u001b[0m \u001b[0;36m5000\u001b[0m\u001b[0;34m\u001b[0m\u001b[0;34m\u001b[0m\u001b[0m\n\u001b[1;32m      6\u001b[0m \u001b[0mnumruns\u001b[0m \u001b[0;34m=\u001b[0m \u001b[0;36m100\u001b[0m\u001b[0;34m\u001b[0m\u001b[0;34m\u001b[0m\u001b[0m\n\u001b[0;32m----> 7\u001b[0;31m \u001b[0mresponse\u001b[0m \u001b[0;34m=\u001b[0m \u001b[0mEmbeddingComposite\u001b[0m\u001b[0;34m(\u001b[0m\u001b[0mDWaveSampler\u001b[0m\u001b[0;34m(\u001b[0m\u001b[0mtoken\u001b[0m\u001b[0;34m=\u001b[0m\u001b[0;34m'DEV-464cff42c60e9e429494e2ff96d97e0b5f8f4e91'\u001b[0m\u001b[0;34m,\u001b[0m \u001b[0msolver\u001b[0m\u001b[0;34m=\u001b[0m\u001b[0;34m{\u001b[0m\u001b[0;34m'qpu'\u001b[0m\u001b[0;34m:\u001b[0m \u001b[0;32mTrue\u001b[0m\u001b[0;34m}\u001b[0m\u001b[0;34m)\u001b[0m\u001b[0;34m)\u001b[0m\u001b[0;34m.\u001b[0m\u001b[0msample_qubo\u001b[0m\u001b[0;34m(\u001b[0m\u001b[0mQ\u001b[0m\u001b[0;34m,\u001b[0m \u001b[0mnum_reads\u001b[0m\u001b[0;34m=\u001b[0m\u001b[0mnumruns\u001b[0m\u001b[0;34m)\u001b[0m\u001b[0;34m\u001b[0m\u001b[0;34m\u001b[0m\u001b[0m\n\u001b[0m\u001b[1;32m      8\u001b[0m \u001b[0;34m\u001b[0m\u001b[0m\n\u001b[1;32m      9\u001b[0m \u001b[0mprint\u001b[0m\u001b[0;34m(\u001b[0m\u001b[0;34m\"QPU call complete using\"\u001b[0m\u001b[0;34m,\u001b[0m \u001b[0mresponse\u001b[0m\u001b[0;34m.\u001b[0m\u001b[0minfo\u001b[0m\u001b[0;34m[\u001b[0m\u001b[0;34m'timing'\u001b[0m\u001b[0;34m]\u001b[0m\u001b[0;34m[\u001b[0m\u001b[0;34m'qpu_access_time'\u001b[0m\u001b[0;34m]\u001b[0m\u001b[0;34m,\u001b[0m \u001b[0;34m\"microseconds of QPU time.\"\u001b[0m\u001b[0;34m)\u001b[0m\u001b[0;34m\u001b[0m\u001b[0;34m\u001b[0m\u001b[0m\n",
      "\u001b[0;32m~/anaconda3/lib/python3.7/site-packages/dimod/core/sampler.py\u001b[0m in \u001b[0;36msample_qubo\u001b[0;34m(self, Q, **parameters)\u001b[0m\n\u001b[1;32m    238\u001b[0m         \"\"\"\n\u001b[1;32m    239\u001b[0m         \u001b[0mbqm\u001b[0m \u001b[0;34m=\u001b[0m \u001b[0mBinaryQuadraticModel\u001b[0m\u001b[0;34m.\u001b[0m\u001b[0mfrom_qubo\u001b[0m\u001b[0;34m(\u001b[0m\u001b[0mQ\u001b[0m\u001b[0;34m)\u001b[0m\u001b[0;34m\u001b[0m\u001b[0;34m\u001b[0m\u001b[0m\n\u001b[0;32m--> 240\u001b[0;31m         \u001b[0;32mreturn\u001b[0m \u001b[0mself\u001b[0m\u001b[0;34m.\u001b[0m\u001b[0msample\u001b[0m\u001b[0;34m(\u001b[0m\u001b[0mbqm\u001b[0m\u001b[0;34m,\u001b[0m \u001b[0;34m**\u001b[0m\u001b[0mparameters\u001b[0m\u001b[0;34m)\u001b[0m\u001b[0;34m\u001b[0m\u001b[0;34m\u001b[0m\u001b[0m\n\u001b[0m",
      "\u001b[0;32m~/anaconda3/lib/python3.7/site-packages/dwave/system/composites/embedding.py\u001b[0m in \u001b[0;36msample\u001b[0;34m(self, bqm, chain_strength, chain_break_method, chain_break_fraction, embedding_parameters, return_embedding, warnings, **parameters)\u001b[0m\n\u001b[1;32m    244\u001b[0m \u001b[0;34m\u001b[0m\u001b[0m\n\u001b[1;32m    245\u001b[0m         \u001b[0;32mif\u001b[0m \u001b[0mbqm\u001b[0m \u001b[0;32mand\u001b[0m \u001b[0;32mnot\u001b[0m \u001b[0membedding\u001b[0m\u001b[0;34m:\u001b[0m\u001b[0;34m\u001b[0m\u001b[0;34m\u001b[0m\u001b[0m\n\u001b[0;32m--> 246\u001b[0;31m             \u001b[0;32mraise\u001b[0m \u001b[0mValueError\u001b[0m\u001b[0;34m(\u001b[0m\u001b[0;34m\"no embedding found\"\u001b[0m\u001b[0;34m)\u001b[0m\u001b[0;34m\u001b[0m\u001b[0;34m\u001b[0m\u001b[0m\n\u001b[0m\u001b[1;32m    247\u001b[0m \u001b[0;34m\u001b[0m\u001b[0m\n\u001b[1;32m    248\u001b[0m         bqm_embedded = embed_bqm(bqm, embedding, target_adjacency,\n",
      "\u001b[0;31mValueError\u001b[0m: no embedding found"
     ]
    }
   ],
   "source": [
    "# Library to interact with the QPU\n",
    "from dwave.system.samplers import DWaveSampler\n",
    "# Library to embed our problem onto the QPU physical graph\n",
    "from dwave.system.composites import EmbeddingComposite\n",
    "chainstrength = 5000\n",
    "numruns = 100\n",
    "response = EmbeddingComposite(DWaveSampler(token='DEV-464cff42c60e9e429494e2ff96d97e0b5f8f4e91', solver={'qpu': True})).sample_qubo(Q, num_reads=numruns)\n",
    "\n",
    "print(\"QPU call complete using\", response.info['timing']['qpu_access_time'], \"microseconds of QPU time.\")"
   ]
  },
  {
   "cell_type": "code",
   "execution_count": null,
   "metadata": {},
   "outputs": [],
   "source": []
  }
 ],
 "metadata": {
  "kernelspec": {
   "display_name": "Python 3",
   "language": "python",
   "name": "python3"
  },
  "language_info": {
   "codemirror_mode": {
    "name": "ipython",
    "version": 3
   },
   "file_extension": ".py",
   "mimetype": "text/x-python",
   "name": "python",
   "nbconvert_exporter": "python",
   "pygments_lexer": "ipython3",
   "version": "3.7.4"
  }
 },
 "nbformat": 4,
 "nbformat_minor": 2
}
